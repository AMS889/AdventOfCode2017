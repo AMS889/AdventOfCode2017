{
 "cells": [
  {
   "cell_type": "code",
   "execution_count": 13,
   "metadata": {},
   "outputs": [],
   "source": [
    "import sys\n",
    "import os\n",
    "\n",
    "file = open('inputday1.txt', 'r')"
   ]
  },
  {
   "cell_type": "code",
   "execution_count": 14,
   "metadata": {},
   "outputs": [],
   "source": [
    "numberlist = file.read()"
   ]
  },
  {
   "cell_type": "code",
   "execution_count": 29,
   "metadata": {},
   "outputs": [
    {
     "name": "stdout",
     "output_type": "stream",
     "text": [
      "995\n"
     ]
    }
   ],
   "source": [
    "total=0\n",
    "for i in range(len(numberlist)):\n",
    "    if i == 0:\n",
    "        first_digit=int(numberlist[i])\n",
    "    elif (i>0 and i<len(numberlist)-1):\n",
    "        if int(numberlist[i])==int(numberlist[i+1]):\n",
    "            total=total+int(numberlist[i])\n",
    "    elif i==len(numberlist)-1:\n",
    "        if int(numberlist[i])==first_digit:\n",
    "            total=total+int(numberlist[i])\n",
    "print total"
   ]
  },
  {
   "cell_type": "code",
   "execution_count": 30,
   "metadata": {},
   "outputs": [
    {
     "name": "stdout",
     "output_type": "stream",
     "text": [
      "1130\n"
     ]
    }
   ],
   "source": [
    "total=0\n",
    "for i in range(len(numberlist)):\n",
    "    if int(numberlist[i])==int(numberlist[(i+(len(numberlist)/2))%len(numberlist)]):\n",
    "        total=total+int(numberlist[i])\n",
    "print total"
   ]
  },
  {
   "cell_type": "code",
   "execution_count": null,
   "metadata": {},
   "outputs": [],
   "source": []
  },
  {
   "cell_type": "code",
   "execution_count": null,
   "metadata": {
    "collapsed": true
   },
   "outputs": [],
   "source": []
  }
 ],
 "metadata": {
  "kernelspec": {
   "display_name": "Python 2",
   "language": "python",
   "name": "python2"
  },
  "language_info": {
   "codemirror_mode": {
    "name": "ipython",
    "version": 2
   },
   "file_extension": ".py",
   "mimetype": "text/x-python",
   "name": "python",
   "nbconvert_exporter": "python",
   "pygments_lexer": "ipython2",
   "version": "2.7.13"
  }
 },
 "nbformat": 4,
 "nbformat_minor": 2
}
