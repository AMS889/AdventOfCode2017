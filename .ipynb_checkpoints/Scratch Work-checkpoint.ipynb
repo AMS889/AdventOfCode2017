{
 "cells": [
  {
   "cell_type": "code",
   "execution_count": 16,
   "metadata": {
    "collapsed": true
   },
   "outputs": [],
   "source": [
    "import sys\n",
    "import numpy as np\n",
    "import os\n",
    "\n",
    "file = open('day2/day2input.tsv', 'r')"
   ]
  },
  {
   "cell_type": "code",
   "execution_count": 17,
   "metadata": {
    "collapsed": true
   },
   "outputs": [],
   "source": [
    "input = file.read()"
   ]
  },
  {
   "cell_type": "markdown",
   "metadata": {},
   "source": [
    "## Day 1"
   ]
  },
  {
   "cell_type": "code",
   "execution_count": 29,
   "metadata": {},
   "outputs": [
    {
     "name": "stdout",
     "output_type": "stream",
     "text": [
      "995\n"
     ]
    }
   ],
   "source": [
    "total=0\n",
    "for i in range(len(numberlist)):\n",
    "    if i == 0:\n",
    "        first_digit=int(numberlist[i])\n",
    "    elif (i>0 and i<len(numberlist)-1):\n",
    "        if int(numberlist[i])==int(numberlist[i+1]):\n",
    "            total=total+int(numberlist[i])\n",
    "    elif i==len(numberlist)-1:\n",
    "        if int(numberlist[i])==first_digit:\n",
    "            total=total+int(numberlist[i])\n",
    "print total"
   ]
  },
  {
   "cell_type": "code",
   "execution_count": 30,
   "metadata": {},
   "outputs": [
    {
     "name": "stdout",
     "output_type": "stream",
     "text": [
      "1130\n"
     ]
    }
   ],
   "source": [
    "total=0\n",
    "for i in range(len(numberlist)):\n",
    "    if int(numberlist[i])==int(numberlist[(i+(len(numberlist)/2))%len(numberlist)]):\n",
    "        total=total+int(numberlist[i])\n",
    "print total"
   ]
  },
  {
   "cell_type": "markdown",
   "metadata": {},
   "source": [
    "## Day 2"
   ]
  },
  {
   "cell_type": "code",
   "execution_count": 56,
   "metadata": {
    "collapsed": true
   },
   "outputs": [],
   "source": [
    "df = np.asarray(input.split('\\n'))\n",
    "df = np.array([x.split('\\t') for x in df])\n",
    "vfunc = np.vectorize(int)\n",
    "df=vfunc(df)"
   ]
  },
  {
   "cell_type": "code",
   "execution_count": 60,
   "metadata": {},
   "outputs": [
    {
     "name": "stdout",
     "output_type": "stream",
     "text": [
      "44887\n"
     ]
    }
   ],
   "source": [
    "diffs = 0\n",
    "for i in range(df.shape[0]):\n",
    "    diffs = diffs + (max(df[i])-min(df[i]))\n",
    "print diffs"
   ]
  },
  {
   "cell_type": "code",
   "execution_count": 96,
   "metadata": {},
   "outputs": [
    {
     "name": "stdout",
     "output_type": "stream",
     "text": [
      "242\n"
     ]
    }
   ],
   "source": [
    "divs = 0\n",
    "for i in range(df.shape[0]):\n",
    "    for k in range(df.shape[1]):\n",
    "        for j in range(k+1,df.shape[1]):\n",
    "            if df[i][k]%df[i][j] == 0:\n",
    "                divs = divs + df[i][k]/df[i][j]\n",
    "            elif df[i][j]%df[i][k] == 0:\n",
    "                divs = divs + df[i][j]/df[i][k]\n",
    "\n",
    "print divs"
   ]
  },
  {
   "cell_type": "markdown",
   "metadata": {},
   "source": [
    "# Day 3"
   ]
  },
  {
   "cell_type": "code",
   "execution_count": 103,
   "metadata": {
    "collapsed": true
   },
   "outputs": [],
   "source": [
    "import math \n",
    "\n",
    "def side_len(number):\n",
    "    side = math.ceil(math.sqrt(number))\n",
    "    if side % 2 != 0:\n",
    "        side = side\n",
    "    else:\n",
    "        side = side + 1\n",
    "    dist_cent = (side-1)/2\n",
    "    for i in range(4):\n",
    "        axises = [side**2 - ((side-1) * i)  - math.floor(side/2)] #get the axis \"cells\"\n",
    "    dist_perp = min([abs(axis - input) for axis in axises])\n",
    "    print(dist_perp + dist_cent)"
   ]
  },
  {
   "cell_type": "code",
   "execution_count": 104,
   "metadata": {},
   "outputs": [
    {
     "name": "stdout",
     "output_type": "stream",
     "text": [
      "326.0\n"
     ]
    }
   ],
   "source": [
    "side_len(361527)"
   ]
  },
  {
   "cell_type": "markdown",
   "metadata": {},
   "source": [
    "# Day 4"
   ]
  },
  {
   "cell_type": "code",
   "execution_count": 126,
   "metadata": {
    "collapsed": true
   },
   "outputs": [],
   "source": [
    "file = open('day4/day4input.txt', 'r')\n",
    "input = file.read()\n",
    "input = input.split('\\n')"
   ]
  },
  {
   "cell_type": "code",
   "execution_count": 147,
   "metadata": {},
   "outputs": [],
   "source": [
    "masterlist = []\n",
    "for i in range(len(input)):\n",
    "    masterlist.append([input[i]])"
   ]
  },
  {
   "cell_type": "code",
   "execution_count": 182,
   "metadata": {},
   "outputs": [],
   "source": [
    "split_master = []\n",
    "for j in range(len(masterlist)):\n",
    "    for i in masterlist[j]:\n",
    "        split_master.append(i.split(' '))"
   ]
  },
  {
   "cell_type": "code",
   "execution_count": 180,
   "metadata": {},
   "outputs": [
    {
     "name": "stdout",
     "output_type": "stream",
     "text": [
      "337\n"
     ]
    }
   ],
   "source": [
    "total=0\n",
    "for i in range(len(split_master)):\n",
    "    if len(list(set(split_master[i])))==len(split_master[i]):\n",
    "        total=total+1\n",
    "print total"
   ]
  },
  {
   "cell_type": "code",
   "execution_count": 188,
   "metadata": {},
   "outputs": [],
   "source": [
    "test = []\n",
    "for i in masterlist[0]:\n",
    "    for item in i.split(' '):\n",
    "        test.append(''.join(sorted(item)))"
   ]
  },
  {
   "cell_type": "code",
   "execution_count": 197,
   "metadata": {},
   "outputs": [],
   "source": [
    "split_master_pt2 = []\n",
    "for j in range(len(masterlist)):\n",
    "    for i in masterlist[j]:\n",
    "        test=[]\n",
    "        for item in i.split(' '):\n",
    "            test.append(''.join(sorted(item)))\n",
    "        split_master_pt2.append(test)"
   ]
  },
  {
   "cell_type": "code",
   "execution_count": 200,
   "metadata": {},
   "outputs": [
    {
     "name": "stdout",
     "output_type": "stream",
     "text": [
      "231\n"
     ]
    }
   ],
   "source": [
    "total=0\n",
    "for i in range(len(split_master_pt2)):\n",
    "    if len(list(set(split_master_pt2[i])))==len(split_master_pt2[i]):\n",
    "        total=total+1\n",
    "print total"
   ]
  },
  {
   "cell_type": "markdown",
   "metadata": {},
   "source": [
    "# Day 5"
   ]
  },
  {
   "cell_type": "code",
   "execution_count": 213,
   "metadata": {
    "collapsed": true
   },
   "outputs": [],
   "source": [
    "file = open('day5/day5input.txt', 'r')\n",
    "input = file.read()\n",
    "input = input.split('\\n')"
   ]
  },
  {
   "cell_type": "code",
   "execution_count": 214,
   "metadata": {},
   "outputs": [],
   "source": [
    "input = [ int(x) for x in input ]"
   ]
  },
  {
   "cell_type": "code",
   "execution_count": 215,
   "metadata": {},
   "outputs": [
    {
     "name": "stdout",
     "output_type": "stream",
     "text": [
      "356945\n"
     ]
    }
   ],
   "source": [
    "i=0\n",
    "counter=0\n",
    "while i < len(input):\n",
    "    steps = input[i]\n",
    "    input[i] = input[i]+1\n",
    "    i=i+steps\n",
    "    counter=counter+1\n",
    "print counter"
   ]
  },
  {
   "cell_type": "code",
   "execution_count": 216,
   "metadata": {
    "collapsed": true
   },
   "outputs": [],
   "source": [
    "file = open('day5/day5input.txt', 'r')\n",
    "input = file.read()\n",
    "input = input.split('\\n')\n",
    "input = [ int(x) for x in input ]"
   ]
  },
  {
   "cell_type": "code",
   "execution_count": 217,
   "metadata": {},
   "outputs": [
    {
     "name": "stdout",
     "output_type": "stream",
     "text": [
      "28372145\n"
     ]
    }
   ],
   "source": [
    "i=0\n",
    "counter=0\n",
    "while i < len(input):\n",
    "    steps = input[i]\n",
    "    if input[i] >= 3:\n",
    "        input[i] = input[i] -1\n",
    "    elif input[i] < 3:\n",
    "        input[i] = input[i]+1\n",
    "    i=i+steps\n",
    "    counter=counter+1\n",
    "print counter"
   ]
  },
  {
   "cell_type": "code",
   "execution_count": null,
   "metadata": {
    "collapsed": true
   },
   "outputs": [],
   "source": []
  }
 ],
 "metadata": {
  "kernelspec": {
   "display_name": "Python 2",
   "language": "python",
   "name": "python2"
  },
  "language_info": {
   "codemirror_mode": {
    "name": "ipython",
    "version": 2
   },
   "file_extension": ".py",
   "mimetype": "text/x-python",
   "name": "python",
   "nbconvert_exporter": "python",
   "pygments_lexer": "ipython2",
   "version": "2.7.13"
  }
 },
 "nbformat": 4,
 "nbformat_minor": 2
}
